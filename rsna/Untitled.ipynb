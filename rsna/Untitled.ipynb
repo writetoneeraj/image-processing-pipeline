{
 "cells": [
  {
   "cell_type": "code",
   "execution_count": 2,
   "id": "exceptional-disorder",
   "metadata": {},
   "outputs": [],
   "source": [
    "import pandas as pd\n",
    "import numpy as np\n",
    "import cv2\n",
    "from matplotlib import pyplot as plt\n",
    "import pydicom\n",
    "from keras.applications.resnet50 import ResNet50"
   ]
  },
  {
   "cell_type": "code",
   "execution_count": 21,
   "id": "demonstrated-phase",
   "metadata": {},
   "outputs": [
    {
     "data": {
      "text/html": [
       "<div>\n",
       "<style scoped>\n",
       "    .dataframe tbody tr th:only-of-type {\n",
       "        vertical-align: middle;\n",
       "    }\n",
       "\n",
       "    .dataframe tbody tr th {\n",
       "        vertical-align: top;\n",
       "    }\n",
       "\n",
       "    .dataframe thead th {\n",
       "        text-align: right;\n",
       "    }\n",
       "</style>\n",
       "<table border=\"1\" class=\"dataframe\">\n",
       "  <thead>\n",
       "    <tr style=\"text-align: right;\">\n",
       "      <th></th>\n",
       "      <th>ID</th>\n",
       "      <th>Label</th>\n",
       "    </tr>\n",
       "  </thead>\n",
       "  <tbody>\n",
       "    <tr>\n",
       "      <th>0</th>\n",
       "      <td>ID_12cadc6af_epidural</td>\n",
       "      <td>0</td>\n",
       "    </tr>\n",
       "    <tr>\n",
       "      <th>1</th>\n",
       "      <td>ID_12cadc6af_intraparenchymal</td>\n",
       "      <td>0</td>\n",
       "    </tr>\n",
       "    <tr>\n",
       "      <th>2</th>\n",
       "      <td>ID_12cadc6af_intraventricular</td>\n",
       "      <td>0</td>\n",
       "    </tr>\n",
       "    <tr>\n",
       "      <th>3</th>\n",
       "      <td>ID_12cadc6af_subarachnoid</td>\n",
       "      <td>0</td>\n",
       "    </tr>\n",
       "    <tr>\n",
       "      <th>4</th>\n",
       "      <td>ID_12cadc6af_subdural</td>\n",
       "      <td>0</td>\n",
       "    </tr>\n",
       "  </tbody>\n",
       "</table>\n",
       "</div>"
      ],
      "text/plain": [
       "                              ID  Label\n",
       "0          ID_12cadc6af_epidural      0\n",
       "1  ID_12cadc6af_intraparenchymal      0\n",
       "2  ID_12cadc6af_intraventricular      0\n",
       "3      ID_12cadc6af_subarachnoid      0\n",
       "4          ID_12cadc6af_subdural      0"
      ]
     },
     "execution_count": 21,
     "metadata": {},
     "output_type": "execute_result"
    }
   ],
   "source": [
    "TRAIN_IMAGES_PATH = \"./data/train_images\"\n",
    "TEST_IMAGES_PATH = \"./data/test_images\"\n",
    "train_img_names = ['ID_0000aee4b', 'ID_0000ca2f6', 'ID_0000f1657', \n",
    "                   'ID_0001dcc25', 'ID_0001de0e8', 'ID_0001f7f62',\n",
    "                   'ID_00008ce3c', 'ID_000012eaf', 'ID_00025ef4b',\n",
    "                   'ID_000039fa0', 'ID_000178e76', 'ID_000229f2a',\n",
    "                   'ID_000230ed7', 'ID_000259ccf', 'ID_0000950d7',\n",
    "                   'ID_0002003a8', 'ID_0002081b6', 'ID_0002108bd',\n",
    "                   'ID_00005679d', 'ID_00019828f']\n",
    "\n",
    "test_img_names = ['ID_000000e27', 'ID_0001af484', 'ID_0001f6d2a',\n",
    "                  'ID_0002bd10a', 'ID_00007b8cb', 'ID_000176f2a',\n",
    "                  'ID_000210e16', 'ID_000009146', 'ID_00033386d',\n",
    "                  'ID_000134952']\n",
    "\n",
    "train = pd.read_csv(\"./data/stage_2_train.csv\")\n",
    "train.head()"
   ]
  },
  {
   "cell_type": "code",
   "execution_count": 29,
   "id": "smoking-cameroon",
   "metadata": {},
   "outputs": [
    {
     "data": {
      "text/html": [
       "<div>\n",
       "<style scoped>\n",
       "    .dataframe tbody tr th:only-of-type {\n",
       "        vertical-align: middle;\n",
       "    }\n",
       "\n",
       "    .dataframe tbody tr th {\n",
       "        vertical-align: top;\n",
       "    }\n",
       "\n",
       "    .dataframe thead th {\n",
       "        text-align: right;\n",
       "    }\n",
       "</style>\n",
       "<table border=\"1\" class=\"dataframe\">\n",
       "  <thead>\n",
       "    <tr style=\"text-align: right;\">\n",
       "      <th></th>\n",
       "      <th>ID</th>\n",
       "      <th>Label</th>\n",
       "    </tr>\n",
       "  </thead>\n",
       "  <tbody>\n",
       "    <tr>\n",
       "      <th>0</th>\n",
       "      <td>ID_0fbf6a978_epidural</td>\n",
       "      <td>0.5</td>\n",
       "    </tr>\n",
       "    <tr>\n",
       "      <th>1</th>\n",
       "      <td>ID_0fbf6a978_intraparenchymal</td>\n",
       "      <td>0.5</td>\n",
       "    </tr>\n",
       "    <tr>\n",
       "      <th>2</th>\n",
       "      <td>ID_0fbf6a978_intraventricular</td>\n",
       "      <td>0.5</td>\n",
       "    </tr>\n",
       "    <tr>\n",
       "      <th>3</th>\n",
       "      <td>ID_0fbf6a978_subarachnoid</td>\n",
       "      <td>0.5</td>\n",
       "    </tr>\n",
       "    <tr>\n",
       "      <th>4</th>\n",
       "      <td>ID_0fbf6a978_subdural</td>\n",
       "      <td>0.5</td>\n",
       "    </tr>\n",
       "  </tbody>\n",
       "</table>\n",
       "</div>"
      ],
      "text/plain": [
       "                              ID  Label\n",
       "0          ID_0fbf6a978_epidural    0.5\n",
       "1  ID_0fbf6a978_intraparenchymal    0.5\n",
       "2  ID_0fbf6a978_intraventricular    0.5\n",
       "3      ID_0fbf6a978_subarachnoid    0.5\n",
       "4          ID_0fbf6a978_subdural    0.5"
      ]
     },
     "execution_count": 29,
     "metadata": {},
     "output_type": "execute_result"
    }
   ],
   "source": [
    "test = pd.read_csv('./data/stage_2_sample_submission.csv')\n",
    "test.head()"
   ]
  },
  {
   "cell_type": "code",
   "execution_count": 8,
   "id": "underlying-revision",
   "metadata": {},
   "outputs": [],
   "source": [
    "def get_args():\n",
    "    parser = argparse.ArgumentParser()\n",
    "    parser.add_argument('--input')\n",
    "    parser.add_argument('--output')\n",
    "    parser.add_argument('--img-dir')\n",
    "    return parser.parse_args()\n",
    "    \n",
    "def loaddataset(input):\n",
    "    \"\"\"\n",
    "    Read csv file and return dataframe\n",
    "    \"\"\"\n",
    "    return pd.read_csv(input)\n",
    "\n",
    "def removeduplicates(df, _keep='first', _inplace=True):\n",
    "    \"\"\"\n",
    "    Remove duplicates keeping first row.\n",
    "    \"\"\"\n",
    "    df = df.drop_duplicates(keep=_keep, inplace=_inplace)\n",
    "    return df\n",
    "\n",
    "def splitcolumn(df):\n",
    "    \"\"\"\n",
    "    Method read column value and split in multiple columns. This is very much specific to data.\n",
    "    \"\"\"\n",
    "    df['Hemorrhage'] = df['ID'].apply(lambda x : str(x).rsplit('_',1)[1])\n",
    "    df['ID'] = df['ID'].apply(lambda x : str(x).rsplit('_',1)[0])\n",
    "    return df\n",
    "\n",
    "def pivot_dataframe(args, df, column_name, value, indexcolumn):\n",
    "    \"\"\"\n",
    "    This method is used to convert row wise data to column wise.\n",
    "    column name for which pivoting is required.\n",
    "    value to keep for pivoted columns\n",
    "    indexcolumn on which dataframe has to be indexed.\n",
    "    \"\"\"\n",
    "    df = pd.pivot_table(df, columns=column_name, values=value, index=indexcolumn).reset_index()\n",
    "    df['filepath'] = args.img-dir + df['ID'] + '.dcm'\n",
    "    return df\n",
    "\n"
   ]
  },
  {
   "cell_type": "code",
   "execution_count": 22,
   "id": "opposite-shame",
   "metadata": {},
   "outputs": [
    {
     "data": {
      "text/html": [
       "<div>\n",
       "<style scoped>\n",
       "    .dataframe tbody tr th:only-of-type {\n",
       "        vertical-align: middle;\n",
       "    }\n",
       "\n",
       "    .dataframe tbody tr th {\n",
       "        vertical-align: top;\n",
       "    }\n",
       "\n",
       "    .dataframe thead th {\n",
       "        text-align: right;\n",
       "    }\n",
       "</style>\n",
       "<table border=\"1\" class=\"dataframe\">\n",
       "  <thead>\n",
       "    <tr style=\"text-align: right;\">\n",
       "      <th></th>\n",
       "      <th>ID</th>\n",
       "      <th>Label</th>\n",
       "      <th>Hemorrhage</th>\n",
       "    </tr>\n",
       "  </thead>\n",
       "  <tbody>\n",
       "    <tr>\n",
       "      <th>0</th>\n",
       "      <td>ID_12cadc6af</td>\n",
       "      <td>0</td>\n",
       "      <td>epidural</td>\n",
       "    </tr>\n",
       "    <tr>\n",
       "      <th>1</th>\n",
       "      <td>ID_12cadc6af</td>\n",
       "      <td>0</td>\n",
       "      <td>intraparenchymal</td>\n",
       "    </tr>\n",
       "    <tr>\n",
       "      <th>2</th>\n",
       "      <td>ID_12cadc6af</td>\n",
       "      <td>0</td>\n",
       "      <td>intraventricular</td>\n",
       "    </tr>\n",
       "    <tr>\n",
       "      <th>3</th>\n",
       "      <td>ID_12cadc6af</td>\n",
       "      <td>0</td>\n",
       "      <td>subarachnoid</td>\n",
       "    </tr>\n",
       "    <tr>\n",
       "      <th>4</th>\n",
       "      <td>ID_12cadc6af</td>\n",
       "      <td>0</td>\n",
       "      <td>subdural</td>\n",
       "    </tr>\n",
       "  </tbody>\n",
       "</table>\n",
       "</div>"
      ],
      "text/plain": [
       "             ID  Label        Hemorrhage\n",
       "0  ID_12cadc6af      0          epidural\n",
       "1  ID_12cadc6af      0  intraparenchymal\n",
       "2  ID_12cadc6af      0  intraventricular\n",
       "3  ID_12cadc6af      0      subarachnoid\n",
       "4  ID_12cadc6af      0          subdural"
      ]
     },
     "execution_count": 22,
     "metadata": {},
     "output_type": "execute_result"
    }
   ],
   "source": [
    "train = splitcolumn(train)"
   ]
  },
  {
   "cell_type": "code",
   "execution_count": 23,
   "id": "specialized-battlefield",
   "metadata": {},
   "outputs": [],
   "source": [
    "removeduplicates(train)\n",
    "train = train[train[\"ID\"].isin(train_img_names)]"
   ]
  },
  {
   "cell_type": "code",
   "execution_count": 41,
   "id": "discrete-filename",
   "metadata": {},
   "outputs": [
    {
     "data": {
      "text/html": [
       "<div>\n",
       "<style scoped>\n",
       "    .dataframe tbody tr th:only-of-type {\n",
       "        vertical-align: middle;\n",
       "    }\n",
       "\n",
       "    .dataframe tbody tr th {\n",
       "        vertical-align: top;\n",
       "    }\n",
       "\n",
       "    .dataframe thead th {\n",
       "        text-align: right;\n",
       "    }\n",
       "</style>\n",
       "<table border=\"1\" class=\"dataframe\">\n",
       "  <thead>\n",
       "    <tr style=\"text-align: right;\">\n",
       "      <th></th>\n",
       "      <th>ID</th>\n",
       "      <th>Label</th>\n",
       "      <th>Hemorrhage</th>\n",
       "    </tr>\n",
       "  </thead>\n",
       "  <tbody>\n",
       "    <tr>\n",
       "      <th>256296</th>\n",
       "      <td>ID_000039fa0</td>\n",
       "      <td>0</td>\n",
       "      <td>epidural</td>\n",
       "    </tr>\n",
       "    <tr>\n",
       "      <th>256297</th>\n",
       "      <td>ID_000039fa0</td>\n",
       "      <td>0</td>\n",
       "      <td>intraparenchymal</td>\n",
       "    </tr>\n",
       "    <tr>\n",
       "      <th>256298</th>\n",
       "      <td>ID_000039fa0</td>\n",
       "      <td>0</td>\n",
       "      <td>intraventricular</td>\n",
       "    </tr>\n",
       "    <tr>\n",
       "      <th>256299</th>\n",
       "      <td>ID_000039fa0</td>\n",
       "      <td>0</td>\n",
       "      <td>subarachnoid</td>\n",
       "    </tr>\n",
       "    <tr>\n",
       "      <th>256300</th>\n",
       "      <td>ID_000039fa0</td>\n",
       "      <td>0</td>\n",
       "      <td>subdural</td>\n",
       "    </tr>\n",
       "  </tbody>\n",
       "</table>\n",
       "</div>"
      ],
      "text/plain": [
       "                  ID  Label        Hemorrhage\n",
       "256296  ID_000039fa0      0          epidural\n",
       "256297  ID_000039fa0      0  intraparenchymal\n",
       "256298  ID_000039fa0      0  intraventricular\n",
       "256299  ID_000039fa0      0      subarachnoid\n",
       "256300  ID_000039fa0      0          subdural"
      ]
     },
     "execution_count": 41,
     "metadata": {},
     "output_type": "execute_result"
    }
   ],
   "source": [
    "train.head()"
   ]
  },
  {
   "cell_type": "code",
   "execution_count": 30,
   "id": "secret-reference",
   "metadata": {},
   "outputs": [
    {
     "data": {
      "text/html": [
       "<div>\n",
       "<style scoped>\n",
       "    .dataframe tbody tr th:only-of-type {\n",
       "        vertical-align: middle;\n",
       "    }\n",
       "\n",
       "    .dataframe tbody tr th {\n",
       "        vertical-align: top;\n",
       "    }\n",
       "\n",
       "    .dataframe thead th {\n",
       "        text-align: right;\n",
       "    }\n",
       "</style>\n",
       "<table border=\"1\" class=\"dataframe\">\n",
       "  <thead>\n",
       "    <tr style=\"text-align: right;\">\n",
       "      <th></th>\n",
       "      <th>ID</th>\n",
       "      <th>Label</th>\n",
       "      <th>Hemorrhage</th>\n",
       "    </tr>\n",
       "  </thead>\n",
       "  <tbody>\n",
       "    <tr>\n",
       "      <th>17862</th>\n",
       "      <td>ID_0001af484</td>\n",
       "      <td>0.5</td>\n",
       "      <td>epidural</td>\n",
       "    </tr>\n",
       "    <tr>\n",
       "      <th>17863</th>\n",
       "      <td>ID_0001af484</td>\n",
       "      <td>0.5</td>\n",
       "      <td>intraparenchymal</td>\n",
       "    </tr>\n",
       "    <tr>\n",
       "      <th>17864</th>\n",
       "      <td>ID_0001af484</td>\n",
       "      <td>0.5</td>\n",
       "      <td>intraventricular</td>\n",
       "    </tr>\n",
       "    <tr>\n",
       "      <th>17865</th>\n",
       "      <td>ID_0001af484</td>\n",
       "      <td>0.5</td>\n",
       "      <td>subarachnoid</td>\n",
       "    </tr>\n",
       "    <tr>\n",
       "      <th>17866</th>\n",
       "      <td>ID_0001af484</td>\n",
       "      <td>0.5</td>\n",
       "      <td>subdural</td>\n",
       "    </tr>\n",
       "  </tbody>\n",
       "</table>\n",
       "</div>"
      ],
      "text/plain": [
       "                 ID  Label        Hemorrhage\n",
       "17862  ID_0001af484    0.5          epidural\n",
       "17863  ID_0001af484    0.5  intraparenchymal\n",
       "17864  ID_0001af484    0.5  intraventricular\n",
       "17865  ID_0001af484    0.5      subarachnoid\n",
       "17866  ID_0001af484    0.5          subdural"
      ]
     },
     "execution_count": 30,
     "metadata": {},
     "output_type": "execute_result"
    }
   ],
   "source": [
    "test = splitcolumn(test)\n",
    "removeduplicates(test)\n",
    "test = test[test[\"ID\"].isin(test_img_names)]\n",
    "test.head()"
   ]
  },
  {
   "cell_type": "code",
   "execution_count": 32,
   "id": "impossible-bachelor",
   "metadata": {},
   "outputs": [],
   "source": [
    "train.to_csv('./data/train.csv')\n",
    "test.to_csv('./data/test.csv')"
   ]
  },
  {
   "cell_type": "code",
   "execution_count": 42,
   "id": "adjustable-gibraltar",
   "metadata": {},
   "outputs": [],
   "source": [
    "dicom = pydicom.dcmread('./data/train_images/ID_000039fa0.dcm')"
   ]
  },
  {
   "cell_type": "code",
   "execution_count": 43,
   "id": "convenient-effectiveness",
   "metadata": {},
   "outputs": [
    {
     "data": {
      "text/plain": [
       "Dataset.file_meta -------------------------------\n",
       "(0002, 0000) File Meta Information Group Length  UL: 188\n",
       "(0002, 0001) File Meta Information Version       OB: b'\\x00\\x01'\n",
       "(0002, 0002) Media Storage SOP Class UID         UI: CT Image Storage\n",
       "(0002, 0003) Media Storage SOP Instance UID      UI: 1.2.840.4267.32.162913613590029796866673494045672074853\n",
       "(0002, 0010) Transfer Syntax UID                 UI: Explicit VR Little Endian\n",
       "(0002, 0012) Implementation Class UID            UI: 1.2.40.0.13.1.1.1\n",
       "(0002, 0013) Implementation Version Name         SH: 'dcm4che-1.4.35'\n",
       "-------------------------------------------------\n",
       "(0008, 0018) SOP Instance UID                    UI: ID_000039fa0\n",
       "(0008, 0060) Modality                            CS: 'CT'\n",
       "(0010, 0020) Patient ID                          LO: 'ID_eeaf99e7'\n",
       "(0020, 000d) Study Instance UID                  UI: ID_134d398b61\n",
       "(0020, 000e) Series Instance UID                 UI: ID_5f8484c3e0\n",
       "(0020, 0010) Study ID                            SH: ''\n",
       "(0020, 0032) Image Position (Patient)            DS: [-125.000000, -141.318451, 62.720940]\n",
       "(0020, 0037) Image Orientation (Patient)         DS: [1.000000, 0.000000, 0.000000, 0.000000, 0.968148, -0.250380]\n",
       "(0028, 0002) Samples per Pixel                   US: 1\n",
       "(0028, 0004) Photometric Interpretation          CS: 'MONOCHROME2'\n",
       "(0028, 0010) Rows                                US: 512\n",
       "(0028, 0011) Columns                             US: 512\n",
       "(0028, 0030) Pixel Spacing                       DS: [0.488281, 0.488281]\n",
       "(0028, 0100) Bits Allocated                      US: 16\n",
       "(0028, 0101) Bits Stored                         US: 16\n",
       "(0028, 0102) High Bit                            US: 15\n",
       "(0028, 0103) Pixel Representation                US: 1\n",
       "(0028, 1050) Window Center                       DS: \"30.0\"\n",
       "(0028, 1051) Window Width                        DS: \"80.0\"\n",
       "(0028, 1052) Rescale Intercept                   DS: \"-1024.0\"\n",
       "(0028, 1053) Rescale Slope                       DS: \"1.0\"\n",
       "(7fe0, 0010) Pixel Data                          OW: Array of 524288 elements"
      ]
     },
     "execution_count": 43,
     "metadata": {},
     "output_type": "execute_result"
    }
   ],
   "source": [
    "dicom"
   ]
  },
  {
   "cell_type": "code",
   "execution_count": 46,
   "id": "attached-paraguay",
   "metadata": {},
   "outputs": [
    {
     "data": {
      "image/png": "[encoded data removed]",
      "text/plain": [
       "<Figure size 432x288 with 1 Axes>"
      ]
     },
     "metadata": {
      "needs_background": "light"
     },
     "output_type": "display_data"
    }
   ],
   "source": [
    "img = dicom.pixel_array\n",
    "plt.imshow(img, cmap=plt.cm.bone)\n",
    "plt.show()"
   ]
  },
  {
   "cell_type": "code",
   "execution_count": null,
   "id": "mobile-visibility",
   "metadata": {},
   "outputs": [],
   "source": []
  }
 ],
 "metadata": {
  "kernelspec": {
   "display_name": "rsna",
   "language": "python",
   "name": "rsna"
  },
  "language_info": {
   "codemirror_mode": {
    "name": "ipython",
    "version": 3
   },
   "file_extension": ".py",
   "mimetype": "text/x-python",
   "name": "python",
   "nbconvert_exporter": "python",
   "pygments_lexer": "ipython3",
   "version": "3.8.8"
  }
 },
 "nbformat": 4,
 "nbformat_minor": 5
}
